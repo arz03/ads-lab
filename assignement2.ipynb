{
  "cells": [
    {
      "cell_type": "markdown",
      "metadata": {
        "id": "view-in-github",
        "colab_type": "text"
      },
      "source": [
        "<a href=\"https://colab.research.google.com/github/arz03/ads-lab/blob/main/assignement2.ipynb\" target=\"_parent\"><img src=\"https://colab.research.google.com/assets/colab-badge.svg\" alt=\"Open In Colab\"/></a>"
      ]
    },
    {
      "cell_type": "code",
      "execution_count": null,
      "id": "59d665b9-fa19-473c-bddb-138ea3d7b3b0",
      "metadata": {
        "id": "59d665b9-fa19-473c-bddb-138ea3d7b3b0"
      },
      "outputs": [],
      "source": [
        "import pandas as pd\n",
        "import numpy as np\n",
        "import matplotlib.pyplot as plt\n",
        "# import seaborn as sns"
      ]
    },
    {
      "cell_type": "markdown",
      "id": "c5ef1f1e",
      "metadata": {
        "id": "c5ef1f1e"
      },
      "source": [
        "Task 1 Simple aggregate and average of price relative indices"
      ]
    },
    {
      "cell_type": "code",
      "execution_count": null,
      "id": "fba798b6-c941-4825-b2ff-f6afeecbd5a3",
      "metadata": {
        "id": "fba798b6-c941-4825-b2ff-f6afeecbd5a3",
        "outputId": "2523d159-9517-4a89-cd7a-61e89aee90bb"
      },
      "outputs": [
        {
          "data": {
            "text/html": [
              "<div>\n",
              "<style scoped>\n",
              "    .dataframe tbody tr th:only-of-type {\n",
              "        vertical-align: middle;\n",
              "    }\n",
              "\n",
              "    .dataframe tbody tr th {\n",
              "        vertical-align: top;\n",
              "    }\n",
              "\n",
              "    .dataframe thead th {\n",
              "        text-align: right;\n",
              "    }\n",
              "</style>\n",
              "<table border=\"1\" class=\"dataframe\">\n",
              "  <thead>\n",
              "    <tr style=\"text-align: right;\">\n",
              "      <th></th>\n",
              "      <th>base</th>\n",
              "      <th>current</th>\n",
              "    </tr>\n",
              "  </thead>\n",
              "  <tbody>\n",
              "    <tr>\n",
              "      <th>0</th>\n",
              "      <td>10</td>\n",
              "      <td>12</td>\n",
              "    </tr>\n",
              "    <tr>\n",
              "      <th>1</th>\n",
              "      <td>15</td>\n",
              "      <td>18</td>\n",
              "    </tr>\n",
              "    <tr>\n",
              "      <th>2</th>\n",
              "      <td>20</td>\n",
              "      <td>22</td>\n",
              "    </tr>\n",
              "    <tr>\n",
              "      <th>3</th>\n",
              "      <td>25</td>\n",
              "      <td>28</td>\n",
              "    </tr>\n",
              "    <tr>\n",
              "      <th>4</th>\n",
              "      <td>30</td>\n",
              "      <td>35</td>\n",
              "    </tr>\n",
              "  </tbody>\n",
              "</table>\n",
              "</div>"
            ],
            "text/plain": [
              "   base  current\n",
              "0    10       12\n",
              "1    15       18\n",
              "2    20       22\n",
              "3    25       28\n",
              "4    30       35"
            ]
          },
          "execution_count": 4,
          "metadata": {},
          "output_type": "execute_result"
        }
      ],
      "source": [
        "# data\n",
        "data={'base':[10,15,20,25,30],\n",
        "      'current':[12,18,22,28,35]}\n",
        "df1=pd.DataFrame(data)\n",
        "df1"
      ]
    },
    {
      "cell_type": "code",
      "execution_count": null,
      "id": "c340390e",
      "metadata": {
        "id": "c340390e",
        "outputId": "44b3e97a-1859-4006-99fc-9ad4f2c998ad"
      },
      "outputs": [
        {
          "name": "stdout",
          "output_type": "stream",
          "text": [
            "114.99999999999999\n"
          ]
        }
      ],
      "source": [
        "# simple aggregate price index\n",
        "sum_base_prices=df1['base'].sum()\n",
        "sum_current_prices=df1['current'].sum()\n",
        "agg_price_index=(sum_current_prices/sum_base_prices)*100\n",
        "print(agg_price_index)"
      ]
    },
    {
      "cell_type": "code",
      "execution_count": null,
      "id": "b3e58bc1",
      "metadata": {
        "id": "b3e58bc1",
        "outputId": "e3758ea7-dbe5-4eec-cf74-ed75ff82b545"
      },
      "outputs": [
        {
          "data": {
            "text/html": [
              "<div>\n",
              "<style scoped>\n",
              "    .dataframe tbody tr th:only-of-type {\n",
              "        vertical-align: middle;\n",
              "    }\n",
              "\n",
              "    .dataframe tbody tr th {\n",
              "        vertical-align: top;\n",
              "    }\n",
              "\n",
              "    .dataframe thead th {\n",
              "        text-align: right;\n",
              "    }\n",
              "</style>\n",
              "<table border=\"1\" class=\"dataframe\">\n",
              "  <thead>\n",
              "    <tr style=\"text-align: right;\">\n",
              "      <th></th>\n",
              "      <th>base</th>\n",
              "      <th>current</th>\n",
              "      <th>Price Relative</th>\n",
              "    </tr>\n",
              "  </thead>\n",
              "  <tbody>\n",
              "    <tr>\n",
              "      <th>0</th>\n",
              "      <td>10</td>\n",
              "      <td>12</td>\n",
              "      <td>120.000000</td>\n",
              "    </tr>\n",
              "    <tr>\n",
              "      <th>1</th>\n",
              "      <td>15</td>\n",
              "      <td>18</td>\n",
              "      <td>120.000000</td>\n",
              "    </tr>\n",
              "    <tr>\n",
              "      <th>2</th>\n",
              "      <td>20</td>\n",
              "      <td>22</td>\n",
              "      <td>110.000000</td>\n",
              "    </tr>\n",
              "    <tr>\n",
              "      <th>3</th>\n",
              "      <td>25</td>\n",
              "      <td>28</td>\n",
              "      <td>112.000000</td>\n",
              "    </tr>\n",
              "    <tr>\n",
              "      <th>4</th>\n",
              "      <td>30</td>\n",
              "      <td>35</td>\n",
              "      <td>116.666667</td>\n",
              "    </tr>\n",
              "  </tbody>\n",
              "</table>\n",
              "</div>"
            ],
            "text/plain": [
              "   base  current  Price Relative\n",
              "0    10       12      120.000000\n",
              "1    15       18      120.000000\n",
              "2    20       22      110.000000\n",
              "3    25       28      112.000000\n",
              "4    30       35      116.666667"
            ]
          },
          "execution_count": 8,
          "metadata": {},
          "output_type": "execute_result"
        }
      ],
      "source": [
        "# price relative for each commodity\n",
        "df1['Price Relative']=(df1['current']/df1['base'])*100\n",
        "df1"
      ]
    },
    {
      "cell_type": "code",
      "execution_count": null,
      "id": "761f683d",
      "metadata": {
        "id": "761f683d"
      },
      "outputs": [],
      "source": [
        "# simple average of price relatives index\n",
        "avg_of_price_relatives=df1['Price Relative'].mean()"
      ]
    }
  ],
  "metadata": {
    "kernelspec": {
      "display_name": "Python 3",
      "language": "python",
      "name": "python3"
    },
    "language_info": {
      "codemirror_mode": {
        "name": "ipython",
        "version": 3
      },
      "file_extension": ".py",
      "mimetype": "text/x-python",
      "name": "python",
      "nbconvert_exporter": "python",
      "pygments_lexer": "ipython3",
      "version": "3.10.12"
    },
    "colab": {
      "provenance": [],
      "include_colab_link": true
    }
  },
  "nbformat": 4,
  "nbformat_minor": 5
}
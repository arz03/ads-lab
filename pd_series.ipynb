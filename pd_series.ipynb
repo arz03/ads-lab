{
 "cells": [
  {
   "cell_type": "code",
   "execution_count": 1,
   "id": "d14a4300-758f-408e-914c-472129dd5357",
   "metadata": {},
   "outputs": [],
   "source": [
    "import pandas as pd\n",
    "import numpy as np"
   ]
  },
  {
   "cell_type": "code",
   "execution_count": 2,
   "id": "8e97c46e-8b1e-4249-a13b-b33f5d086c3a",
   "metadata": {},
   "outputs": [
    {
     "name": "stdout",
     "output_type": "stream",
     "text": [
      "Hello\n"
     ]
    }
   ],
   "source": [
    "print(\"Hello\")"
   ]
  },
  {
   "cell_type": "code",
   "execution_count": 3,
   "id": "d5a65c6c-378e-43cf-9a39-67bc9285312c",
   "metadata": {},
   "outputs": [
    {
     "name": "stdout",
     "output_type": "stream",
     "text": [
      "o    1\n",
      "t    2\n",
      "dtype: int64\n",
      "One    1\n",
      "Two    2\n",
      "dtype: int64\n"
     ]
    }
   ],
   "source": [
    "data = [1,2]\n",
    "s = pd.Series(data, index=['One','Two'])\n",
    "x = pd.Series(data, index=[\"o\",\"t\"])\n",
    "print(x)\n",
    "print(s)"
   ]
  },
  {
   "cell_type": "code",
   "execution_count": 4,
   "id": "83861657-0f94-4fb2-9254-e96988ea4d94",
   "metadata": {},
   "outputs": [
    {
     "name": "stdout",
     "output_type": "stream",
     "text": [
      "Name     [Arjun, Ashvin]\n",
      "City    [Bhopal, Bhopal]\n",
      "dtype: object\n"
     ]
    }
   ],
   "source": [
    "data2 = {\n",
    "    'Name': [\"Arjun\", \"Ashvin\"],\n",
    "    'City': [\"Bhopal\", \"Bhopal\"]\n",
    "}\n",
    "\n",
    "s = pd.Series(data2, )\n",
    "print(s)\n"
   ]
  },
  {
   "cell_type": "code",
   "execution_count": 5,
   "id": "11c38647-ce68-4407-bb1f-d1f2d0debb90",
   "metadata": {},
   "outputs": [
    {
     "name": "stdout",
     "output_type": "stream",
     "text": [
      "One    1\n",
      "Two    2\n",
      "One    3\n",
      "Two    4\n",
      "dtype: int64\n"
     ]
    }
   ],
   "source": [
    "# assigning duplicate index\n",
    "data = [1,2,3,4]\n",
    "s = pd.Series(data, index=['One','Two',\"One\",\"Two\"])\n",
    "print(s)"
   ]
  },
  {
   "cell_type": "code",
   "execution_count": 6,
   "id": "ef5e770c-0409-48d0-9a98-e126d1c582b2",
   "metadata": {},
   "outputs": [
    {
     "data": {
      "text/plain": [
       "array([False, False,  True,  True])"
      ]
     },
     "execution_count": 6,
     "metadata": {},
     "output_type": "execute_result"
    }
   ],
   "source": [
    "s.index.duplicated()"
   ]
  },
  {
   "cell_type": "code",
   "execution_count": 7,
   "id": "4d93b11d-70e8-42c0-9b98-9149b64a9ee0",
   "metadata": {},
   "outputs": [
    {
     "name": "stdout",
     "output_type": "stream",
     "text": [
      "Index(['One', 'Two'], dtype='object')\n"
     ]
    }
   ],
   "source": [
    "print(s.index.unique())"
   ]
  },
  {
   "cell_type": "code",
   "execution_count": 8,
   "id": "4b4d0ac9-f8c0-49aa-b066-46a26b6dd9df",
   "metadata": {},
   "outputs": [
    {
     "name": "stdout",
     "output_type": "stream",
     "text": [
      "False\n"
     ]
    }
   ],
   "source": [
    "print(s.index.is_unique)"
   ]
  },
  {
   "cell_type": "code",
   "execution_count": 9,
   "id": "05b16459-cd92-438e-984b-1d097183026d",
   "metadata": {},
   "outputs": [],
   "source": [
    "s=s.reset_index()"
   ]
  },
  {
   "cell_type": "code",
   "execution_count": 10,
   "id": "5fb85061-e19d-498a-9384-eeb0521b7725",
   "metadata": {},
   "outputs": [
    {
     "data": {
      "text/html": [
       "<div>\n",
       "<style scoped>\n",
       "    .dataframe tbody tr th:only-of-type {\n",
       "        vertical-align: middle;\n",
       "    }\n",
       "\n",
       "    .dataframe tbody tr th {\n",
       "        vertical-align: top;\n",
       "    }\n",
       "\n",
       "    .dataframe thead th {\n",
       "        text-align: right;\n",
       "    }\n",
       "</style>\n",
       "<table border=\"1\" class=\"dataframe\">\n",
       "  <thead>\n",
       "    <tr style=\"text-align: right;\">\n",
       "      <th></th>\n",
       "      <th>index</th>\n",
       "      <th>0</th>\n",
       "    </tr>\n",
       "  </thead>\n",
       "  <tbody>\n",
       "    <tr>\n",
       "      <th>0</th>\n",
       "      <td>One</td>\n",
       "      <td>1</td>\n",
       "    </tr>\n",
       "    <tr>\n",
       "      <th>1</th>\n",
       "      <td>Two</td>\n",
       "      <td>2</td>\n",
       "    </tr>\n",
       "    <tr>\n",
       "      <th>2</th>\n",
       "      <td>One</td>\n",
       "      <td>3</td>\n",
       "    </tr>\n",
       "    <tr>\n",
       "      <th>3</th>\n",
       "      <td>Two</td>\n",
       "      <td>4</td>\n",
       "    </tr>\n",
       "  </tbody>\n",
       "</table>\n",
       "</div>"
      ],
      "text/plain": [
       "  index  0\n",
       "0   One  1\n",
       "1   Two  2\n",
       "2   One  3\n",
       "3   Two  4"
      ]
     },
     "execution_count": 10,
     "metadata": {},
     "output_type": "execute_result"
    }
   ],
   "source": [
    "s"
   ]
  },
  {
   "cell_type": "code",
   "execution_count": 11,
   "id": "d244ecb2-8643-4705-ae16-181228169bcf",
   "metadata": {},
   "outputs": [
    {
     "name": "stdout",
     "output_type": "stream",
     "text": [
      "a    1\n",
      "b    2\n",
      "c    3\n",
      "d    a\n",
      "dtype: object\n"
     ]
    }
   ],
   "source": [
    "data = [1,2,3,'a','b']\n",
    "s=pd.Series(data,index=['a','b','c','d','e'])\n",
    "print(s.loc['a':'d'])"
   ]
  },
  {
   "cell_type": "code",
   "execution_count": 12,
   "id": "3d7c4176-14f0-4077-8622-126068a2d246",
   "metadata": {},
   "outputs": [
    {
     "name": "stdout",
     "output_type": "stream",
     "text": [
      "0     7\n",
      "1     9\n",
      "2    11\n",
      "3    13\n",
      "4     5\n",
      "dtype: int64\n"
     ]
    }
   ],
   "source": [
    "data=[1,2,3,4,5]\n",
    "data2=[6,7,8,9,0]\n",
    "s=pd.Series(data)\n",
    "p=pd.Series(data2)\n",
    "summ=s.add(p)\n",
    "print(summ)"
   ]
  },
  {
   "cell_type": "code",
   "execution_count": 13,
   "id": "2dbdf210-bdeb-4403-8800-da6b89f5c5df",
   "metadata": {},
   "outputs": [
    {
     "name": "stdout",
     "output_type": "stream",
     "text": [
      "0   -5\n",
      "1   -5\n",
      "2   -5\n",
      "3   -5\n",
      "4    5\n",
      "dtype: int64\n"
     ]
    }
   ],
   "source": [
    "subs=s.sub(p)\n",
    "print(subs)"
   ]
  },
  {
   "cell_type": "code",
   "execution_count": 14,
   "id": "9e62b876-12cf-4c26-a458-df6ea44141f0",
   "metadata": {},
   "outputs": [
    {
     "name": "stdout",
     "output_type": "stream",
     "text": [
      "0     6\n",
      "1    14\n",
      "2    24\n",
      "3    36\n",
      "4     0\n",
      "dtype: int64\n"
     ]
    }
   ],
   "source": [
    "mult=s.mul(p)\n",
    "print(mult)"
   ]
  },
  {
   "cell_type": "code",
   "execution_count": 15,
   "id": "78059392-75ba-4198-b544-4336749d0f0c",
   "metadata": {},
   "outputs": [
    {
     "name": "stdout",
     "output_type": "stream",
     "text": [
      "0    1\n",
      "1    2\n",
      "2    3\n",
      "3    4\n",
      "4    5\n",
      "dtype: int64\n",
      "0    1.0\n",
      "1    2.0\n",
      "2    3.0\n",
      "3    4.0\n",
      "4    5.0\n",
      "dtype: float64\n"
     ]
    }
   ],
   "source": [
    "print(s)\n",
    "a=s.astype('float')\n",
    "print(a)"
   ]
  },
  {
   "cell_type": "code",
   "execution_count": 16,
   "id": "25851179-b7d4-4b7c-b2a7-463c4bbd3cbd",
   "metadata": {},
   "outputs": [
    {
     "data": {
      "text/plain": [
       "array([1, 2, 3, 4, 5])"
      ]
     },
     "execution_count": 16,
     "metadata": {},
     "output_type": "execute_result"
    }
   ],
   "source": [
    "s.to_numpy()"
   ]
  },
  {
   "cell_type": "code",
   "execution_count": 17,
   "id": "4e9badc2-1145-41eb-8722-a975cb0641ab",
   "metadata": {},
   "outputs": [
    {
     "data": {
      "text/plain": [
       "{0: 1, 1: 2, 2: 3, 3: 4, 4: 5}"
      ]
     },
     "execution_count": 17,
     "metadata": {},
     "output_type": "execute_result"
    }
   ],
   "source": [
    "s.to_dict()"
   ]
  },
  {
   "cell_type": "code",
   "execution_count": 18,
   "id": "5566eea8-6013-48e2-a6e6-97caae070417",
   "metadata": {},
   "outputs": [
    {
     "data": {
      "text/plain": [
       "[1, 2, 3, 4, 5]"
      ]
     },
     "execution_count": 18,
     "metadata": {},
     "output_type": "execute_result"
    }
   ],
   "source": [
    "s.to_list()"
   ]
  },
  {
   "cell_type": "code",
   "execution_count": 19,
   "id": "49dbb7ac-998a-4692-b245-c1902fde6652",
   "metadata": {},
   "outputs": [
    {
     "data": {
      "text/plain": [
       "'{\"0\":1,\"1\":2,\"2\":3,\"3\":4,\"4\":5}'"
      ]
     },
     "execution_count": 19,
     "metadata": {},
     "output_type": "execute_result"
    }
   ],
   "source": [
    "s.to_json()"
   ]
  },
  {
   "cell_type": "code",
   "execution_count": 20,
   "id": "1f449645-c0bf-4158-b7c9-22c8cf54cf2b",
   "metadata": {},
   "outputs": [
    {
     "data": {
      "text/plain": [
       "'\\\\begin{tabular}{lr}\\n\\\\toprule\\n & 0 \\\\\\\\\\n\\\\midrule\\n0 & 1 \\\\\\\\\\n1 & 2 \\\\\\\\\\n2 & 3 \\\\\\\\\\n3 & 4 \\\\\\\\\\n4 & 5 \\\\\\\\\\n\\\\bottomrule\\n\\\\end{tabular}\\n'"
      ]
     },
     "execution_count": 20,
     "metadata": {},
     "output_type": "execute_result"
    }
   ],
   "source": [
    "s.to_latex()"
   ]
  }
 ],
 "metadata": {
  "kernelspec": {
   "display_name": "Python 3 (ipykernel)",
   "language": "python",
   "name": "python3"
  },
  "language_info": {
   "codemirror_mode": {
    "name": "ipython",
    "version": 3
   },
   "file_extension": ".py",
   "mimetype": "text/x-python",
   "name": "python",
   "nbconvert_exporter": "python",
   "pygments_lexer": "ipython3",
   "version": "3.10.12"
  }
 },
 "nbformat": 4,
 "nbformat_minor": 5
}

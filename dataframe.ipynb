{
  "cells": [
    {
      "cell_type": "markdown",
      "metadata": {
        "id": "view-in-github",
        "colab_type": "text"
      },
      "source": [
        "<a href=\"https://colab.research.google.com/github/arz03/ads-lab/blob/main/dataframe.ipynb\" target=\"_parent\"><img src=\"https://colab.research.google.com/assets/colab-badge.svg\" alt=\"Open In Colab\"/></a>"
      ]
    },
    {
      "cell_type": "code",
      "execution_count": null,
      "id": "5c5e13da-05f1-46e4-a2aa-5e66040900e3",
      "metadata": {
        "id": "5c5e13da-05f1-46e4-a2aa-5e66040900e3"
      },
      "outputs": [],
      "source": [
        "import pandas as pd\n",
        "import numpy as np"
      ]
    },
    {
      "cell_type": "markdown",
      "id": "ee09434b-5f4c-4b3e-a06d-4234efa66da3",
      "metadata": {
        "id": "ee09434b-5f4c-4b3e-a06d-4234efa66da3"
      },
      "source": [
        "# Creating DF"
      ]
    },
    {
      "cell_type": "markdown",
      "id": "52198750-6d53-4660-a1c4-0634a290abb7",
      "metadata": {
        "id": "52198750-6d53-4660-a1c4-0634a290abb7"
      },
      "source": [
        "create df from dict of list\n",
        "list of dict\n",
        "list of list\n",
        "np array"
      ]
    },
    {
      "cell_type": "code",
      "execution_count": null,
      "id": "580a59b1-8d8b-42d7-9119-d924abe996db",
      "metadata": {
        "id": "580a59b1-8d8b-42d7-9119-d924abe996db"
      },
      "outputs": [],
      "source": [
        "dict1 = {'name': ['Arjun', 'Vyomesh', 'Anuj'],\n",
        "         'city': [\"Mumbai\", \"Delhi\", \"Chennai\"]\n",
        "        }"
      ]
    },
    {
      "cell_type": "code",
      "execution_count": null,
      "id": "343e8309-a7e5-44cd-8a60-15afeee5df2e",
      "metadata": {
        "id": "343e8309-a7e5-44cd-8a60-15afeee5df2e",
        "outputId": "98c981c4-3595-407e-ede5-07a2ac9cebe7"
      },
      "outputs": [
        {
          "data": {
            "text/html": [
              "<div>\n",
              "<style scoped>\n",
              "    .dataframe tbody tr th:only-of-type {\n",
              "        vertical-align: middle;\n",
              "    }\n",
              "\n",
              "    .dataframe tbody tr th {\n",
              "        vertical-align: top;\n",
              "    }\n",
              "\n",
              "    .dataframe thead th {\n",
              "        text-align: right;\n",
              "    }\n",
              "</style>\n",
              "<table border=\"1\" class=\"dataframe\">\n",
              "  <thead>\n",
              "    <tr style=\"text-align: right;\">\n",
              "      <th></th>\n",
              "      <th>name</th>\n",
              "      <th>city</th>\n",
              "    </tr>\n",
              "  </thead>\n",
              "  <tbody>\n",
              "    <tr>\n",
              "      <th>0</th>\n",
              "      <td>Arjun</td>\n",
              "      <td>Mumbai</td>\n",
              "    </tr>\n",
              "    <tr>\n",
              "      <th>1</th>\n",
              "      <td>Vyomesh</td>\n",
              "      <td>Delhi</td>\n",
              "    </tr>\n",
              "    <tr>\n",
              "      <th>2</th>\n",
              "      <td>Anuj</td>\n",
              "      <td>Chennai</td>\n",
              "    </tr>\n",
              "  </tbody>\n",
              "</table>\n",
              "</div>"
            ],
            "text/plain": [
              "      name     city\n",
              "0    Arjun   Mumbai\n",
              "1  Vyomesh    Delhi\n",
              "2     Anuj  Chennai"
            ]
          },
          "execution_count": 3,
          "metadata": {},
          "output_type": "execute_result"
        }
      ],
      "source": [
        "dict_df = pd.DataFrame(dict1)\n",
        "dict_df"
      ]
    },
    {
      "cell_type": "markdown",
      "id": "10619543-2882-4a88-8386-e6fb776faa1f",
      "metadata": {
        "id": "10619543-2882-4a88-8386-e6fb776faa1f"
      },
      "source": [
        "lis=[['Arj','abc'],\n",
        "     [1,2]]\n",
        "lis_df=pd.DataFrame(lis)\n",
        "lis_df"
      ]
    },
    {
      "cell_type": "code",
      "execution_count": null,
      "id": "9aa2fa90-57d8-4b79-bcd6-119ba45a435b",
      "metadata": {
        "id": "9aa2fa90-57d8-4b79-bcd6-119ba45a435b",
        "outputId": "88e545ac-c687-4fdf-aba6-6e26f58617dd"
      },
      "outputs": [
        {
          "data": {
            "text/html": [
              "<div>\n",
              "<style scoped>\n",
              "    .dataframe tbody tr th:only-of-type {\n",
              "        vertical-align: middle;\n",
              "    }\n",
              "\n",
              "    .dataframe tbody tr th {\n",
              "        vertical-align: top;\n",
              "    }\n",
              "\n",
              "    .dataframe thead th {\n",
              "        text-align: right;\n",
              "    }\n",
              "</style>\n",
              "<table border=\"1\" class=\"dataframe\">\n",
              "  <thead>\n",
              "    <tr style=\"text-align: right;\">\n",
              "      <th></th>\n",
              "      <th>0</th>\n",
              "    </tr>\n",
              "  </thead>\n",
              "  <tbody>\n",
              "    <tr>\n",
              "      <th>Arjun</th>\n",
              "      <td>Bhopal</td>\n",
              "    </tr>\n",
              "    <tr>\n",
              "      <th>Ashvin</th>\n",
              "      <td>Indore</td>\n",
              "    </tr>\n",
              "    <tr>\n",
              "      <th>Anuj</th>\n",
              "      <td>Reva</td>\n",
              "    </tr>\n",
              "  </tbody>\n",
              "</table>\n",
              "</div>"
            ],
            "text/plain": [
              "             0\n",
              "Arjun   Bhopal\n",
              "Ashvin  Indore\n",
              "Anuj      Reva"
            ]
          },
          "execution_count": 4,
          "metadata": {},
          "output_type": "execute_result"
        }
      ],
      "source": [
        "l1 = ['Arjun', \"Ashvin\",\"Anuj\"]\n",
        "l2 = ['Bhopal', 'Indore', 'Reva']\n",
        "list_df = pd.DataFrame(l2,l1)\n",
        "list_df"
      ]
    },
    {
      "cell_type": "code",
      "execution_count": null,
      "id": "0f2be8f0-39af-45b0-80a7-67aafa3bb3d3",
      "metadata": {
        "id": "0f2be8f0-39af-45b0-80a7-67aafa3bb3d3",
        "outputId": "8105a4c7-b525-4993-9faa-17dc6c6920a0"
      },
      "outputs": [
        {
          "data": {
            "text/html": [
              "<div>\n",
              "<style scoped>\n",
              "    .dataframe tbody tr th:only-of-type {\n",
              "        vertical-align: middle;\n",
              "    }\n",
              "\n",
              "    .dataframe tbody tr th {\n",
              "        vertical-align: top;\n",
              "    }\n",
              "\n",
              "    .dataframe thead th {\n",
              "        text-align: right;\n",
              "    }\n",
              "</style>\n",
              "<table border=\"1\" class=\"dataframe\">\n",
              "  <thead>\n",
              "    <tr style=\"text-align: right;\">\n",
              "      <th></th>\n",
              "      <th>0</th>\n",
              "    </tr>\n",
              "  </thead>\n",
              "  <tbody>\n",
              "    <tr>\n",
              "      <th>0</th>\n",
              "      <td>1</td>\n",
              "    </tr>\n",
              "    <tr>\n",
              "      <th>1</th>\n",
              "      <td>2</td>\n",
              "    </tr>\n",
              "    <tr>\n",
              "      <th>2</th>\n",
              "      <td>3</td>\n",
              "    </tr>\n",
              "  </tbody>\n",
              "</table>\n",
              "</div>"
            ],
            "text/plain": [
              "   0\n",
              "0  1\n",
              "1  2\n",
              "2  3"
            ]
          },
          "execution_count": 5,
          "metadata": {},
          "output_type": "execute_result"
        }
      ],
      "source": [
        "nparr = np.array([1,2,3])\n",
        "np_df=pd.DataFrame(nparr)\n",
        "np_df"
      ]
    },
    {
      "cell_type": "code",
      "execution_count": null,
      "id": "b2efa4e8",
      "metadata": {
        "id": "b2efa4e8",
        "outputId": "f731f3d1-4262-4c62-8ec9-b03b41ac2696"
      },
      "outputs": [
        {
          "name": "stdout",
          "output_type": "stream",
          "text": [
            "     a  b\n",
            "0  one  1\n",
            "1  two  2\n",
            "transpose:\n",
            "      0    1\n",
            "a  one  two\n",
            "b    1    2\n"
          ]
        }
      ],
      "source": [
        "lis_of_dict = [{'a':'one','b':1},{'a':'two','b':2}]\n",
        "ltd_df=pd.DataFrame(lis_of_dict)\n",
        "print(ltd_df)\n",
        "print('transpose:\\n',ltd_df.T)"
      ]
    },
    {
      "cell_type": "markdown",
      "id": "5096af98-f513-4d5c-b3df-7b96e0f13ca9",
      "metadata": {
        "id": "5096af98-f513-4d5c-b3df-7b96e0f13ca9"
      },
      "source": [
        "# Attributes of df"
      ]
    },
    {
      "cell_type": "code",
      "execution_count": null,
      "id": "1405fee0-f0dc-477c-9867-1e6c6bfeba23",
      "metadata": {
        "id": "1405fee0-f0dc-477c-9867-1e6c6bfeba23"
      },
      "outputs": [],
      "source": [
        "df_data= {'name': ['Arjun', 'Vyomesh', 'Anuj'],\n",
        "         'city': [\"Mumbai\", \"Delhi\", \"Chennai\"]\n",
        "        }\n",
        "df_attr=pd.DataFrame(df_data)"
      ]
    },
    {
      "cell_type": "code",
      "execution_count": null,
      "id": "11bdc270",
      "metadata": {
        "id": "11bdc270",
        "outputId": "d7f2c60a-4125-4abe-f264-33d87c5928f1"
      },
      "outputs": [
        {
          "data": {
            "text/plain": [
              "RangeIndex(start=0, stop=3, step=1)"
            ]
          },
          "execution_count": 9,
          "metadata": {},
          "output_type": "execute_result"
        }
      ],
      "source": [
        "df_attr.index"
      ]
    },
    {
      "cell_type": "code",
      "execution_count": null,
      "id": "7da56a1f",
      "metadata": {
        "id": "7da56a1f",
        "outputId": "be9bb388-0966-48b1-8928-800964895e0e"
      },
      "outputs": [
        {
          "data": {
            "text/plain": [
              "Index(['name', 'city'], dtype='object')"
            ]
          },
          "execution_count": 10,
          "metadata": {},
          "output_type": "execute_result"
        }
      ],
      "source": [
        "df_attr.columns"
      ]
    },
    {
      "cell_type": "code",
      "execution_count": null,
      "id": "987387d2",
      "metadata": {
        "id": "987387d2",
        "outputId": "48bb3d5a-787d-4248-cc77-224928d86dc1"
      },
      "outputs": [
        {
          "data": {
            "text/plain": [
              "array([['Arjun', 'Mumbai'],\n",
              "       ['Vyomesh', 'Delhi'],\n",
              "       ['Anuj', 'Chennai']], dtype=object)"
            ]
          },
          "execution_count": 11,
          "metadata": {},
          "output_type": "execute_result"
        }
      ],
      "source": [
        "df_attr.values"
      ]
    },
    {
      "cell_type": "code",
      "execution_count": null,
      "id": "5f54cd86",
      "metadata": {
        "id": "5f54cd86",
        "outputId": "8d811d4d-55e6-4a2f-a3c9-fb85009b932f"
      },
      "outputs": [
        {
          "data": {
            "text/plain": [
              "(3, 2)"
            ]
          },
          "execution_count": 12,
          "metadata": {},
          "output_type": "execute_result"
        }
      ],
      "source": [
        "df_attr.shape"
      ]
    },
    {
      "cell_type": "code",
      "execution_count": null,
      "id": "558a4247",
      "metadata": {
        "id": "558a4247",
        "outputId": "3b183792-d591-4dcd-8c2b-a95d7ae8343b"
      },
      "outputs": [
        {
          "data": {
            "text/plain": [
              "6"
            ]
          },
          "execution_count": 13,
          "metadata": {},
          "output_type": "execute_result"
        }
      ],
      "source": [
        "df_attr.size"
      ]
    },
    {
      "cell_type": "code",
      "execution_count": null,
      "id": "3fa3a30d",
      "metadata": {
        "id": "3fa3a30d",
        "outputId": "6afa9c31-c566-43ce-c563-ee54287a6e20"
      },
      "outputs": [
        {
          "data": {
            "text/plain": [
              "2"
            ]
          },
          "execution_count": 14,
          "metadata": {},
          "output_type": "execute_result"
        }
      ],
      "source": [
        "df_attr.ndim"
      ]
    },
    {
      "cell_type": "code",
      "execution_count": null,
      "id": "58f276e9",
      "metadata": {
        "id": "58f276e9",
        "outputId": "f8b9e952-c497-47c0-8d4f-c142424abaff"
      },
      "outputs": [
        {
          "data": {
            "text/plain": [
              "name    object\n",
              "city    object\n",
              "dtype: object"
            ]
          },
          "execution_count": 19,
          "metadata": {},
          "output_type": "execute_result"
        }
      ],
      "source": [
        "df_attr.dtypes"
      ]
    },
    {
      "cell_type": "code",
      "execution_count": null,
      "id": "10c7865d",
      "metadata": {
        "id": "10c7865d",
        "outputId": "e9fa9555-4d3e-4bd6-e06a-f12ddedddcc8"
      },
      "outputs": [
        {
          "data": {
            "text/plain": [
              "False"
            ]
          },
          "execution_count": 20,
          "metadata": {},
          "output_type": "execute_result"
        }
      ],
      "source": [
        "df_attr.empty"
      ]
    },
    {
      "cell_type": "code",
      "execution_count": null,
      "id": "3ea5427f",
      "metadata": {
        "id": "3ea5427f",
        "outputId": "8bef1fd0-39ff-4691-f551-a66e8efdd7e6"
      },
      "outputs": [
        {
          "data": {
            "text/plain": [
              "[RangeIndex(start=0, stop=3, step=1), Index(['name', 'city'], dtype='object')]"
            ]
          },
          "execution_count": 21,
          "metadata": {},
          "output_type": "execute_result"
        }
      ],
      "source": [
        "df_attr.axes"
      ]
    },
    {
      "cell_type": "code",
      "execution_count": null,
      "id": "4d1e1744",
      "metadata": {
        "id": "4d1e1744",
        "outputId": "dadd8e06-7f35-4ad3-db67-ebfb0339112c"
      },
      "outputs": [
        {
          "data": {
            "text/html": [
              "<div>\n",
              "<style scoped>\n",
              "    .dataframe tbody tr th:only-of-type {\n",
              "        vertical-align: middle;\n",
              "    }\n",
              "\n",
              "    .dataframe tbody tr th {\n",
              "        vertical-align: top;\n",
              "    }\n",
              "\n",
              "    .dataframe thead th {\n",
              "        text-align: right;\n",
              "    }\n",
              "</style>\n",
              "<table border=\"1\" class=\"dataframe\">\n",
              "  <thead>\n",
              "    <tr style=\"text-align: right;\">\n",
              "      <th></th>\n",
              "      <th>0</th>\n",
              "      <th>1</th>\n",
              "      <th>2</th>\n",
              "    </tr>\n",
              "  </thead>\n",
              "  <tbody>\n",
              "    <tr>\n",
              "      <th>name</th>\n",
              "      <td>Arjun</td>\n",
              "      <td>Vyomesh</td>\n",
              "      <td>Anuj</td>\n",
              "    </tr>\n",
              "    <tr>\n",
              "      <th>city</th>\n",
              "      <td>Mumbai</td>\n",
              "      <td>Delhi</td>\n",
              "      <td>Chennai</td>\n",
              "    </tr>\n",
              "  </tbody>\n",
              "</table>\n",
              "</div>"
            ],
            "text/plain": [
              "           0        1        2\n",
              "name   Arjun  Vyomesh     Anuj\n",
              "city  Mumbai    Delhi  Chennai"
            ]
          },
          "execution_count": 22,
          "metadata": {},
          "output_type": "execute_result"
        }
      ],
      "source": [
        "df_attr.T"
      ]
    },
    {
      "cell_type": "markdown",
      "id": "3a3d6dd3",
      "metadata": {
        "id": "3a3d6dd3"
      },
      "source": [
        "# Descriptive Statistics"
      ]
    },
    {
      "cell_type": "code",
      "execution_count": null,
      "id": "c8920757",
      "metadata": {
        "id": "c8920757",
        "outputId": "103f03ed-4cc4-4c84-c04c-3b41bac7155a"
      },
      "outputs": [
        {
          "data": {
            "text/html": [
              "<div>\n",
              "<style scoped>\n",
              "    .dataframe tbody tr th:only-of-type {\n",
              "        vertical-align: middle;\n",
              "    }\n",
              "\n",
              "    .dataframe tbody tr th {\n",
              "        vertical-align: top;\n",
              "    }\n",
              "\n",
              "    .dataframe thead th {\n",
              "        text-align: right;\n",
              "    }\n",
              "</style>\n",
              "<table border=\"1\" class=\"dataframe\">\n",
              "  <thead>\n",
              "    <tr style=\"text-align: right;\">\n",
              "      <th></th>\n",
              "      <th>Product</th>\n",
              "      <th>Price</th>\n",
              "      <th>Year</th>\n",
              "    </tr>\n",
              "  </thead>\n",
              "  <tbody>\n",
              "    <tr>\n",
              "      <th>0</th>\n",
              "      <td>Mobile</td>\n",
              "      <td>20000</td>\n",
              "      <td>2014</td>\n",
              "    </tr>\n",
              "    <tr>\n",
              "      <th>1</th>\n",
              "      <td>AC</td>\n",
              "      <td>28000</td>\n",
              "      <td>2015</td>\n",
              "    </tr>\n",
              "    <tr>\n",
              "      <th>2</th>\n",
              "      <td>Mobile</td>\n",
              "      <td>22000</td>\n",
              "      <td>2016</td>\n",
              "    </tr>\n",
              "    <tr>\n",
              "      <th>3</th>\n",
              "      <td>Sofa</td>\n",
              "      <td>19000</td>\n",
              "      <td>2017</td>\n",
              "    </tr>\n",
              "    <tr>\n",
              "      <th>4</th>\n",
              "      <td>Laptop</td>\n",
              "      <td>45000</td>\n",
              "      <td>2018</td>\n",
              "    </tr>\n",
              "  </tbody>\n",
              "</table>\n",
              "</div>"
            ],
            "text/plain": [
              "  Product  Price  Year\n",
              "0  Mobile  20000  2014\n",
              "1      AC  28000  2015\n",
              "2  Mobile  22000  2016\n",
              "3    Sofa  19000  2017\n",
              "4  Laptop  45000  2018"
            ]
          },
          "execution_count": 2,
          "metadata": {},
          "output_type": "execute_result"
        }
      ],
      "source": [
        "sta = pd.DataFrame({'animal': ['alligator', 'bee', 'falcon', 'lion','monkey', 'parrot', 'shark', 'whale', 'zebra']})\n",
        "sta2_data = {'Product': ['Mobile', 'AC', 'Mobile', 'Sofa', 'Laptop'],\n",
        "        'Price': [20000, 28000, 22000, 19000, 45000],\n",
        "        'Year': [2014, 2015, 2016, 2017, 2018]\n",
        "        }\n",
        "sta2 = pd.DataFrame(sta2_data, columns = ['Product', 'Price', 'Year'])\n",
        "sta\n",
        "sta2\n"
      ]
    },
    {
      "cell_type": "code",
      "execution_count": null,
      "id": "5c890578",
      "metadata": {
        "id": "5c890578",
        "outputId": "ce451dd9-ff42-450c-8324-096cc346d8ee"
      },
      "outputs": [
        {
          "data": {
            "text/html": [
              "<div>\n",
              "<style scoped>\n",
              "    .dataframe tbody tr th:only-of-type {\n",
              "        vertical-align: middle;\n",
              "    }\n",
              "\n",
              "    .dataframe tbody tr th {\n",
              "        vertical-align: top;\n",
              "    }\n",
              "\n",
              "    .dataframe thead th {\n",
              "        text-align: right;\n",
              "    }\n",
              "</style>\n",
              "<table border=\"1\" class=\"dataframe\">\n",
              "  <thead>\n",
              "    <tr style=\"text-align: right;\">\n",
              "      <th></th>\n",
              "      <th>animal</th>\n",
              "    </tr>\n",
              "  </thead>\n",
              "  <tbody>\n",
              "    <tr>\n",
              "      <th>0</th>\n",
              "      <td>alligator</td>\n",
              "    </tr>\n",
              "    <tr>\n",
              "      <th>1</th>\n",
              "      <td>bee</td>\n",
              "    </tr>\n",
              "    <tr>\n",
              "      <th>2</th>\n",
              "      <td>falcon</td>\n",
              "    </tr>\n",
              "    <tr>\n",
              "      <th>3</th>\n",
              "      <td>lion</td>\n",
              "    </tr>\n",
              "    <tr>\n",
              "      <th>4</th>\n",
              "      <td>monkey</td>\n",
              "    </tr>\n",
              "  </tbody>\n",
              "</table>\n",
              "</div>"
            ],
            "text/plain": [
              "      animal\n",
              "0  alligator\n",
              "1        bee\n",
              "2     falcon\n",
              "3       lion\n",
              "4     monkey"
            ]
          },
          "execution_count": 3,
          "metadata": {},
          "output_type": "execute_result"
        }
      ],
      "source": [
        "sta.head()"
      ]
    },
    {
      "cell_type": "code",
      "execution_count": null,
      "id": "fc0e4b65",
      "metadata": {
        "id": "fc0e4b65",
        "outputId": "69fd3247-0965-41f3-d21b-3b82cc19722d"
      },
      "outputs": [
        {
          "data": {
            "text/html": [
              "<div>\n",
              "<style scoped>\n",
              "    .dataframe tbody tr th:only-of-type {\n",
              "        vertical-align: middle;\n",
              "    }\n",
              "\n",
              "    .dataframe tbody tr th {\n",
              "        vertical-align: top;\n",
              "    }\n",
              "\n",
              "    .dataframe thead th {\n",
              "        text-align: right;\n",
              "    }\n",
              "</style>\n",
              "<table border=\"1\" class=\"dataframe\">\n",
              "  <thead>\n",
              "    <tr style=\"text-align: right;\">\n",
              "      <th></th>\n",
              "      <th>animal</th>\n",
              "    </tr>\n",
              "  </thead>\n",
              "  <tbody>\n",
              "    <tr>\n",
              "      <th>4</th>\n",
              "      <td>monkey</td>\n",
              "    </tr>\n",
              "    <tr>\n",
              "      <th>5</th>\n",
              "      <td>parrot</td>\n",
              "    </tr>\n",
              "    <tr>\n",
              "      <th>6</th>\n",
              "      <td>shark</td>\n",
              "    </tr>\n",
              "    <tr>\n",
              "      <th>7</th>\n",
              "      <td>whale</td>\n",
              "    </tr>\n",
              "    <tr>\n",
              "      <th>8</th>\n",
              "      <td>zebra</td>\n",
              "    </tr>\n",
              "  </tbody>\n",
              "</table>\n",
              "</div>"
            ],
            "text/plain": [
              "   animal\n",
              "4  monkey\n",
              "5  parrot\n",
              "6   shark\n",
              "7   whale\n",
              "8   zebra"
            ]
          },
          "execution_count": 28,
          "metadata": {},
          "output_type": "execute_result"
        }
      ],
      "source": [
        "sta.tail()"
      ]
    },
    {
      "cell_type": "code",
      "execution_count": null,
      "id": "fa16f4fc",
      "metadata": {
        "id": "fa16f4fc",
        "outputId": "c3486cd0-82eb-4764-c00d-7a79a7688fef"
      },
      "outputs": [
        {
          "name": "stdout",
          "output_type": "stream",
          "text": [
            "<class 'pandas.core.frame.DataFrame'>\n",
            "RangeIndex: 5 entries, 0 to 4\n",
            "Data columns (total 3 columns):\n",
            " #   Column   Non-Null Count  Dtype \n",
            "---  ------   --------------  ----- \n",
            " 0   Product  5 non-null      object\n",
            " 1   Price    5 non-null      int64 \n",
            " 2   Year     5 non-null      int64 \n",
            "dtypes: int64(2), object(1)\n",
            "memory usage: 248.0+ bytes\n"
          ]
        }
      ],
      "source": [
        "sta2.info(verbose=True)"
      ]
    },
    {
      "cell_type": "code",
      "execution_count": null,
      "id": "88689b2c",
      "metadata": {
        "id": "88689b2c",
        "outputId": "493871ad-9104-4ede-fc54-cfc0900094be"
      },
      "outputs": [
        {
          "data": {
            "text/html": [
              "<div>\n",
              "<style scoped>\n",
              "    .dataframe tbody tr th:only-of-type {\n",
              "        vertical-align: middle;\n",
              "    }\n",
              "\n",
              "    .dataframe tbody tr th {\n",
              "        vertical-align: top;\n",
              "    }\n",
              "\n",
              "    .dataframe thead th {\n",
              "        text-align: right;\n",
              "    }\n",
              "</style>\n",
              "<table border=\"1\" class=\"dataframe\">\n",
              "  <thead>\n",
              "    <tr style=\"text-align: right;\">\n",
              "      <th></th>\n",
              "      <th>animal</th>\n",
              "    </tr>\n",
              "  </thead>\n",
              "  <tbody>\n",
              "    <tr>\n",
              "      <th>count</th>\n",
              "      <td>9</td>\n",
              "    </tr>\n",
              "    <tr>\n",
              "      <th>unique</th>\n",
              "      <td>9</td>\n",
              "    </tr>\n",
              "    <tr>\n",
              "      <th>top</th>\n",
              "      <td>alligator</td>\n",
              "    </tr>\n",
              "    <tr>\n",
              "      <th>freq</th>\n",
              "      <td>1</td>\n",
              "    </tr>\n",
              "  </tbody>\n",
              "</table>\n",
              "</div>"
            ],
            "text/plain": [
              "           animal\n",
              "count           9\n",
              "unique          9\n",
              "top     alligator\n",
              "freq            1"
            ]
          },
          "execution_count": 31,
          "metadata": {},
          "output_type": "execute_result"
        }
      ],
      "source": [
        "sta.describe()"
      ]
    },
    {
      "cell_type": "code",
      "execution_count": null,
      "id": "174600cc",
      "metadata": {
        "id": "174600cc",
        "outputId": "509eefc3-b5b2-4f6a-c90b-8aeb1d797b63"
      },
      "outputs": [
        {
          "data": {
            "text/plain": [
              "26800.0"
            ]
          },
          "execution_count": 40,
          "metadata": {},
          "output_type": "execute_result"
        }
      ],
      "source": [
        "sta2['Price'].mean()"
      ]
    },
    {
      "cell_type": "code",
      "execution_count": null,
      "id": "383a023a",
      "metadata": {
        "id": "383a023a",
        "outputId": "e2bb9de2-a388-43b8-d72b-cb3d36e1d03b"
      },
      "outputs": [
        {
          "data": {
            "text/plain": [
              "22000.0"
            ]
          },
          "execution_count": 41,
          "metadata": {},
          "output_type": "execute_result"
        }
      ],
      "source": [
        "sta2['Price'].median()"
      ]
    },
    {
      "cell_type": "code",
      "execution_count": null,
      "id": "8d2b7645",
      "metadata": {
        "id": "8d2b7645",
        "outputId": "96815545-06dd-45e2-c122-72d0116b8c21"
      },
      "outputs": [
        {
          "data": {
            "text/html": [
              "<div>\n",
              "<style scoped>\n",
              "    .dataframe tbody tr th:only-of-type {\n",
              "        vertical-align: middle;\n",
              "    }\n",
              "\n",
              "    .dataframe tbody tr th {\n",
              "        vertical-align: top;\n",
              "    }\n",
              "\n",
              "    .dataframe thead th {\n",
              "        text-align: right;\n",
              "    }\n",
              "</style>\n",
              "<table border=\"1\" class=\"dataframe\">\n",
              "  <thead>\n",
              "    <tr style=\"text-align: right;\">\n",
              "      <th></th>\n",
              "      <th>Product</th>\n",
              "      <th>Price</th>\n",
              "      <th>Year</th>\n",
              "    </tr>\n",
              "  </thead>\n",
              "  <tbody>\n",
              "    <tr>\n",
              "      <th>0</th>\n",
              "      <td>Mobile</td>\n",
              "      <td>19000</td>\n",
              "      <td>2014</td>\n",
              "    </tr>\n",
              "    <tr>\n",
              "      <th>1</th>\n",
              "      <td>NaN</td>\n",
              "      <td>20000</td>\n",
              "      <td>2015</td>\n",
              "    </tr>\n",
              "    <tr>\n",
              "      <th>2</th>\n",
              "      <td>NaN</td>\n",
              "      <td>22000</td>\n",
              "      <td>2016</td>\n",
              "    </tr>\n",
              "    <tr>\n",
              "      <th>3</th>\n",
              "      <td>NaN</td>\n",
              "      <td>28000</td>\n",
              "      <td>2017</td>\n",
              "    </tr>\n",
              "    <tr>\n",
              "      <th>4</th>\n",
              "      <td>NaN</td>\n",
              "      <td>45000</td>\n",
              "      <td>2018</td>\n",
              "    </tr>\n",
              "  </tbody>\n",
              "</table>\n",
              "</div>"
            ],
            "text/plain": [
              "  Product  Price  Year\n",
              "0  Mobile  19000  2014\n",
              "1     NaN  20000  2015\n",
              "2     NaN  22000  2016\n",
              "3     NaN  28000  2017\n",
              "4     NaN  45000  2018"
            ]
          },
          "execution_count": 43,
          "metadata": {},
          "output_type": "execute_result"
        }
      ],
      "source": [
        "sta2.mode()"
      ]
    },
    {
      "cell_type": "code",
      "execution_count": null,
      "id": "07796d08",
      "metadata": {
        "id": "07796d08",
        "outputId": "170de516-f42b-456e-dbdb-57f54a72974c"
      },
      "outputs": [
        {
          "data": {
            "text/plain": [
              "19000"
            ]
          },
          "execution_count": 46,
          "metadata": {},
          "output_type": "execute_result"
        }
      ],
      "source": [
        "sta2['Price'].min()"
      ]
    },
    {
      "cell_type": "code",
      "execution_count": null,
      "id": "6f57ca2c",
      "metadata": {
        "id": "6f57ca2c",
        "outputId": "6bb363cb-a204-4d52-abc6-1c65351a5c6e"
      },
      "outputs": [
        {
          "data": {
            "text/plain": [
              "45000"
            ]
          },
          "execution_count": 47,
          "metadata": {},
          "output_type": "execute_result"
        }
      ],
      "source": [
        "sta2['Price'].max()"
      ]
    },
    {
      "cell_type": "code",
      "execution_count": null,
      "id": "ff5fa943",
      "metadata": {
        "id": "ff5fa943",
        "outputId": "7fa38599-ed3e-4ee8-a456-210e86566cc5"
      },
      "outputs": [
        {
          "data": {
            "text/plain": [
              "Product    5\n",
              "Price      5\n",
              "Year       5\n",
              "dtype: int64"
            ]
          },
          "execution_count": 48,
          "metadata": {},
          "output_type": "execute_result"
        }
      ],
      "source": [
        "sta2.count()"
      ]
    },
    {
      "cell_type": "code",
      "execution_count": null,
      "id": "4fa89098",
      "metadata": {
        "id": "4fa89098",
        "outputId": "71a4947e-211a-4aee-8987-9661fa6d6046"
      },
      "outputs": [
        {
          "data": {
            "text/plain": [
              "Product  Price  Year\n",
              "AC       28000  2015    1\n",
              "Laptop   45000  2018    1\n",
              "Mobile   20000  2014    1\n",
              "         22000  2016    1\n",
              "Sofa     19000  2017    1\n",
              "Name: count, dtype: int64"
            ]
          },
          "execution_count": 50,
          "metadata": {},
          "output_type": "execute_result"
        }
      ],
      "source": [
        "sta2.value_counts()"
      ]
    },
    {
      "cell_type": "code",
      "execution_count": null,
      "id": "9e143ff5",
      "metadata": {
        "id": "9e143ff5",
        "outputId": "dadf7c8a-b9ef-4edf-a3b5-88e33f9183d8"
      },
      "outputs": [
        {
          "data": {
            "text/plain": [
              "Product\n",
              "Mobile    2\n",
              "AC        1\n",
              "Sofa      1\n",
              "Laptop    1\n",
              "Name: count, dtype: int64"
            ]
          },
          "execution_count": 54,
          "metadata": {},
          "output_type": "execute_result"
        }
      ],
      "source": [
        "sta2['Product'].value_counts()"
      ]
    },
    {
      "cell_type": "markdown",
      "id": "10a9ff39",
      "metadata": {
        "id": "10a9ff39"
      },
      "source": [
        "# Selection and Indexing"
      ]
    },
    {
      "cell_type": "code",
      "execution_count": null,
      "id": "84248abf",
      "metadata": {
        "id": "84248abf"
      },
      "outputs": [],
      "source": [
        "data = {\n",
        "    'Name': ['Arjun', 'Anuj', 'Vyomesh', 'Ashvin'],\n",
        "    'Age': [25, 30, 35, 40],\n",
        "    'City': ['Bhopal', 'Jabalpur', 'Bhopal', 'Reva'],\n",
        "    'Fee' : [84000, 89000, 15000, 12345]\n",
        "}\n",
        "df=pd.DataFrame(data, index=['a', 'b', 'c', 'd'])"
      ]
    },
    {
      "cell_type": "code",
      "execution_count": null,
      "id": "7d8db2d6",
      "metadata": {
        "id": "7d8db2d6",
        "outputId": "99cc7561-97c5-4c81-a1f4-8a55b80fb8bb"
      },
      "outputs": [
        {
          "data": {
            "text/plain": [
              "Name     Arjun\n",
              "Age         25\n",
              "City    Bhopal\n",
              "Fee      84000\n",
              "Name: a, dtype: object"
            ]
          },
          "execution_count": 52,
          "metadata": {},
          "output_type": "execute_result"
        }
      ],
      "source": [
        "df.loc['a']"
      ]
    },
    {
      "cell_type": "code",
      "execution_count": null,
      "id": "00462e6c",
      "metadata": {
        "id": "00462e6c",
        "outputId": "39a889cd-16f3-4e5c-bd56-ea30ddfb2f53"
      },
      "outputs": [
        {
          "data": {
            "text/html": [
              "<div>\n",
              "<style scoped>\n",
              "    .dataframe tbody tr th:only-of-type {\n",
              "        vertical-align: middle;\n",
              "    }\n",
              "\n",
              "    .dataframe tbody tr th {\n",
              "        vertical-align: top;\n",
              "    }\n",
              "\n",
              "    .dataframe thead th {\n",
              "        text-align: right;\n",
              "    }\n",
              "</style>\n",
              "<table border=\"1\" class=\"dataframe\">\n",
              "  <thead>\n",
              "    <tr style=\"text-align: right;\">\n",
              "      <th></th>\n",
              "      <th>Name</th>\n",
              "      <th>Age</th>\n",
              "      <th>City</th>\n",
              "      <th>Fee</th>\n",
              "    </tr>\n",
              "  </thead>\n",
              "  <tbody>\n",
              "    <tr>\n",
              "      <th>b</th>\n",
              "      <td>Anuj</td>\n",
              "      <td>30</td>\n",
              "      <td>Jabalpur</td>\n",
              "      <td>89000</td>\n",
              "    </tr>\n",
              "    <tr>\n",
              "      <th>c</th>\n",
              "      <td>Vyomesh</td>\n",
              "      <td>35</td>\n",
              "      <td>Bhopal</td>\n",
              "      <td>15000</td>\n",
              "    </tr>\n",
              "  </tbody>\n",
              "</table>\n",
              "</div>"
            ],
            "text/plain": [
              "      Name  Age      City    Fee\n",
              "b     Anuj   30  Jabalpur  89000\n",
              "c  Vyomesh   35    Bhopal  15000"
            ]
          },
          "execution_count": 53,
          "metadata": {},
          "output_type": "execute_result"
        }
      ],
      "source": [
        "df.loc['b':'c']"
      ]
    },
    {
      "cell_type": "code",
      "execution_count": null,
      "id": "cf853f4f",
      "metadata": {
        "id": "cf853f4f",
        "outputId": "3a817a8e-f4d5-4f5d-fa5a-1459c41791de"
      },
      "outputs": [
        {
          "data": {
            "text/plain": [
              "Name        Anuj\n",
              "Age           30\n",
              "City    Jabalpur\n",
              "Fee        89000\n",
              "Name: b, dtype: object"
            ]
          },
          "execution_count": 54,
          "metadata": {},
          "output_type": "execute_result"
        }
      ],
      "source": [
        "df.iloc[1]"
      ]
    },
    {
      "cell_type": "code",
      "execution_count": null,
      "id": "117ae1e9",
      "metadata": {
        "id": "117ae1e9",
        "outputId": "96cf3697-072f-416f-9872-2486a691c464"
      },
      "outputs": [
        {
          "data": {
            "text/html": [
              "<div>\n",
              "<style scoped>\n",
              "    .dataframe tbody tr th:only-of-type {\n",
              "        vertical-align: middle;\n",
              "    }\n",
              "\n",
              "    .dataframe tbody tr th {\n",
              "        vertical-align: top;\n",
              "    }\n",
              "\n",
              "    .dataframe thead th {\n",
              "        text-align: right;\n",
              "    }\n",
              "</style>\n",
              "<table border=\"1\" class=\"dataframe\">\n",
              "  <thead>\n",
              "    <tr style=\"text-align: right;\">\n",
              "      <th></th>\n",
              "      <th>Name</th>\n",
              "      <th>Age</th>\n",
              "      <th>City</th>\n",
              "      <th>Fee</th>\n",
              "    </tr>\n",
              "  </thead>\n",
              "  <tbody>\n",
              "    <tr>\n",
              "      <th>c</th>\n",
              "      <td>Vyomesh</td>\n",
              "      <td>35</td>\n",
              "      <td>Bhopal</td>\n",
              "      <td>15000</td>\n",
              "    </tr>\n",
              "    <tr>\n",
              "      <th>d</th>\n",
              "      <td>Ashvin</td>\n",
              "      <td>40</td>\n",
              "      <td>Reva</td>\n",
              "      <td>12345</td>\n",
              "    </tr>\n",
              "  </tbody>\n",
              "</table>\n",
              "</div>"
            ],
            "text/plain": [
              "      Name  Age    City    Fee\n",
              "c  Vyomesh   35  Bhopal  15000\n",
              "d   Ashvin   40    Reva  12345"
            ]
          },
          "execution_count": 62,
          "metadata": {},
          "output_type": "execute_result"
        }
      ],
      "source": [
        "df.iloc[2:]"
      ]
    },
    {
      "cell_type": "code",
      "execution_count": null,
      "id": "e023eba4",
      "metadata": {
        "id": "e023eba4",
        "outputId": "acdd78e8-7c01-42e0-a71f-433c6801cd8e"
      },
      "outputs": [
        {
          "data": {
            "text/plain": [
              "'Anuj'"
            ]
          },
          "execution_count": 71,
          "metadata": {},
          "output_type": "execute_result"
        }
      ],
      "source": [
        "df.at['b', 'Name']"
      ]
    },
    {
      "cell_type": "code",
      "execution_count": null,
      "id": "e14184a3",
      "metadata": {
        "id": "e14184a3",
        "outputId": "27360060-1951-438a-a94c-2bf6dae1f475"
      },
      "outputs": [
        {
          "data": {
            "text/plain": [
              "'Anuj'"
            ]
          },
          "execution_count": 75,
          "metadata": {},
          "output_type": "execute_result"
        }
      ],
      "source": [
        "df.iat[1,0]"
      ]
    },
    {
      "cell_type": "markdown",
      "id": "22b87681",
      "metadata": {
        "id": "22b87681"
      },
      "source": [
        "# Rows and Column operations"
      ]
    },
    {
      "cell_type": "code",
      "execution_count": null,
      "id": "713765e3",
      "metadata": {
        "id": "713765e3"
      },
      "outputs": [],
      "source": [
        "data = {\n",
        "    'Product': ['Laptop', 'Phone', 'Tablet', 'Monitor'],\n",
        "    'Price': [1200, 800, 300, 200],\n",
        "    'Stock': [30, 50, 100, 25]\n",
        "}\n",
        "df = pd.DataFrame(data)\n",
        "df2=df.copy"
      ]
    },
    {
      "cell_type": "code",
      "execution_count": null,
      "id": "f24319ff",
      "metadata": {
        "id": "f24319ff"
      },
      "outputs": [],
      "source": [
        "df.drop('Price', axis=1, inplace=True)"
      ]
    },
    {
      "cell_type": "code",
      "execution_count": null,
      "id": "6f537d8e",
      "metadata": {
        "id": "6f537d8e",
        "outputId": "3f21bbc7-86ed-4b13-cc72-2d0e61d9cf7a"
      },
      "outputs": [
        {
          "data": {
            "text/html": [
              "<div>\n",
              "<style scoped>\n",
              "    .dataframe tbody tr th:only-of-type {\n",
              "        vertical-align: middle;\n",
              "    }\n",
              "\n",
              "    .dataframe tbody tr th {\n",
              "        vertical-align: top;\n",
              "    }\n",
              "\n",
              "    .dataframe thead th {\n",
              "        text-align: right;\n",
              "    }\n",
              "</style>\n",
              "<table border=\"1\" class=\"dataframe\">\n",
              "  <thead>\n",
              "    <tr style=\"text-align: right;\">\n",
              "      <th></th>\n",
              "      <th>Product</th>\n",
              "      <th>Stock</th>\n",
              "    </tr>\n",
              "  </thead>\n",
              "  <tbody>\n",
              "    <tr>\n",
              "      <th>0</th>\n",
              "      <td>Laptop</td>\n",
              "      <td>30</td>\n",
              "    </tr>\n",
              "    <tr>\n",
              "      <th>1</th>\n",
              "      <td>Phone</td>\n",
              "      <td>50</td>\n",
              "    </tr>\n",
              "    <tr>\n",
              "      <th>2</th>\n",
              "      <td>Tablet</td>\n",
              "      <td>100</td>\n",
              "    </tr>\n",
              "    <tr>\n",
              "      <th>3</th>\n",
              "      <td>Monitor</td>\n",
              "      <td>25</td>\n",
              "    </tr>\n",
              "  </tbody>\n",
              "</table>\n",
              "</div>"
            ],
            "text/plain": [
              "   Product  Stock\n",
              "0   Laptop     30\n",
              "1    Phone     50\n",
              "2   Tablet    100\n",
              "3  Monitor     25"
            ]
          },
          "execution_count": 87,
          "metadata": {},
          "output_type": "execute_result"
        }
      ],
      "source": [
        "df"
      ]
    },
    {
      "cell_type": "code",
      "execution_count": null,
      "id": "b67f53ad",
      "metadata": {
        "id": "b67f53ad",
        "outputId": "5dc63c9a-bcc4-477c-d32b-c69091ce574b"
      },
      "outputs": [
        {
          "ename": "AttributeError",
          "evalue": "'function' object has no attribute 'head'",
          "output_type": "error",
          "traceback": [
            "\u001b[0;31m---------------------------------------------------------------------------\u001b[0m",
            "\u001b[0;31mAttributeError\u001b[0m                            Traceback (most recent call last)",
            "Cell \u001b[0;32mIn[90], line 1\u001b[0m\n\u001b[0;32m----> 1\u001b[0m \u001b[43mdf2\u001b[49m\u001b[38;5;241;43m.\u001b[39;49m\u001b[43mhead\u001b[49m()\n",
            "\u001b[0;31mAttributeError\u001b[0m: 'function' object has no attribute 'head'"
          ]
        }
      ],
      "source": [
        "df2.head()"
      ]
    }
  ],
  "metadata": {
    "kernelspec": {
      "display_name": "Python 3",
      "language": "python",
      "name": "python3"
    },
    "language_info": {
      "codemirror_mode": {
        "name": "ipython",
        "version": 3
      },
      "file_extension": ".py",
      "mimetype": "text/x-python",
      "name": "python",
      "nbconvert_exporter": "python",
      "pygments_lexer": "ipython3",
      "version": "3.10.12"
    },
    "colab": {
      "provenance": [],
      "include_colab_link": true
    }
  },
  "nbformat": 4,
  "nbformat_minor": 5
}